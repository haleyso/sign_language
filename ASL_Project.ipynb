{
  "nbformat": 4,
  "nbformat_minor": 0,
  "metadata": {
    "colab": {
      "name": "ASL Project.ipynb",
      "provenance": [],
      "collapsed_sections": []
    },
    "kernelspec": {
      "name": "python3",
      "display_name": "Python 3"
    }
  },
  "cells": [
    {
      "cell_type": "code",
      "metadata": {
        "id": "skkLi6OAzxp8",
        "colab": {
          "base_uri": "https://localhost:8080/"
        },
        "outputId": "d0b571d2-88f1-40cb-e793-06f85d6eb264"
      },
      "source": [
        "!pip install q keras==2.4.3\n",
        "from google.colab import drive"
      ],
      "execution_count": 1,
      "outputs": [
        {
          "output_type": "stream",
          "text": [
            "Collecting q\n",
            "  Downloading https://files.pythonhosted.org/packages/53/bc/51619d89e0bd855567e7652fa16d06f1ed36a85f108a7fe71f6629bf719d/q-2.6-py2.py3-none-any.whl\n",
            "Requirement already satisfied: keras==2.4.3 in /usr/local/lib/python3.6/dist-packages (2.4.3)\n",
            "Requirement already satisfied: numpy>=1.9.1 in /usr/local/lib/python3.6/dist-packages (from keras==2.4.3) (1.18.5)\n",
            "Requirement already satisfied: h5py in /usr/local/lib/python3.6/dist-packages (from keras==2.4.3) (2.10.0)\n",
            "Requirement already satisfied: scipy>=0.14 in /usr/local/lib/python3.6/dist-packages (from keras==2.4.3) (1.4.1)\n",
            "Requirement already satisfied: pyyaml in /usr/local/lib/python3.6/dist-packages (from keras==2.4.3) (3.13)\n",
            "Requirement already satisfied: six in /usr/local/lib/python3.6/dist-packages (from h5py->keras==2.4.3) (1.15.0)\n",
            "Installing collected packages: q\n",
            "Successfully installed q-2.6\n"
          ],
          "name": "stdout"
        }
      ]
    },
    {
      "cell_type": "code",
      "metadata": {
        "id": "LpNZ0Dhw2LGy",
        "colab": {
          "base_uri": "https://localhost:8080/"
        },
        "outputId": "9bcbf33d-0d49-4618-d440-3a6454297420"
      },
      "source": [
        "drive.mount(\"/content/gdrive\")\n",
        "!pip install tensorflow"
      ],
      "execution_count": 2,
      "outputs": [
        {
          "output_type": "stream",
          "text": [
            "Mounted at /content/gdrive\n",
            "Requirement already satisfied: tensorflow in /usr/local/lib/python3.6/dist-packages (2.3.0)\n",
            "Requirement already satisfied: h5py<2.11.0,>=2.10.0 in /usr/local/lib/python3.6/dist-packages (from tensorflow) (2.10.0)\n",
            "Requirement already satisfied: keras-preprocessing<1.2,>=1.1.1 in /usr/local/lib/python3.6/dist-packages (from tensorflow) (1.1.2)\n",
            "Requirement already satisfied: tensorboard<3,>=2.3.0 in /usr/local/lib/python3.6/dist-packages (from tensorflow) (2.3.0)\n",
            "Requirement already satisfied: absl-py>=0.7.0 in /usr/local/lib/python3.6/dist-packages (from tensorflow) (0.10.0)\n",
            "Requirement already satisfied: grpcio>=1.8.6 in /usr/local/lib/python3.6/dist-packages (from tensorflow) (1.33.2)\n",
            "Requirement already satisfied: opt-einsum>=2.3.2 in /usr/local/lib/python3.6/dist-packages (from tensorflow) (3.3.0)\n",
            "Requirement already satisfied: tensorflow-estimator<2.4.0,>=2.3.0 in /usr/local/lib/python3.6/dist-packages (from tensorflow) (2.3.0)\n",
            "Requirement already satisfied: protobuf>=3.9.2 in /usr/local/lib/python3.6/dist-packages (from tensorflow) (3.12.4)\n",
            "Requirement already satisfied: six>=1.12.0 in /usr/local/lib/python3.6/dist-packages (from tensorflow) (1.15.0)\n",
            "Requirement already satisfied: wheel>=0.26 in /usr/local/lib/python3.6/dist-packages (from tensorflow) (0.35.1)\n",
            "Requirement already satisfied: google-pasta>=0.1.8 in /usr/local/lib/python3.6/dist-packages (from tensorflow) (0.2.0)\n",
            "Requirement already satisfied: gast==0.3.3 in /usr/local/lib/python3.6/dist-packages (from tensorflow) (0.3.3)\n",
            "Requirement already satisfied: termcolor>=1.1.0 in /usr/local/lib/python3.6/dist-packages (from tensorflow) (1.1.0)\n",
            "Requirement already satisfied: astunparse==1.6.3 in /usr/local/lib/python3.6/dist-packages (from tensorflow) (1.6.3)\n",
            "Requirement already satisfied: numpy<1.19.0,>=1.16.0 in /usr/local/lib/python3.6/dist-packages (from tensorflow) (1.18.5)\n",
            "Requirement already satisfied: scipy==1.4.1 in /usr/local/lib/python3.6/dist-packages (from tensorflow) (1.4.1)\n",
            "Requirement already satisfied: wrapt>=1.11.1 in /usr/local/lib/python3.6/dist-packages (from tensorflow) (1.12.1)\n",
            "Requirement already satisfied: requests<3,>=2.21.0 in /usr/local/lib/python3.6/dist-packages (from tensorboard<3,>=2.3.0->tensorflow) (2.23.0)\n",
            "Requirement already satisfied: tensorboard-plugin-wit>=1.6.0 in /usr/local/lib/python3.6/dist-packages (from tensorboard<3,>=2.3.0->tensorflow) (1.7.0)\n",
            "Requirement already satisfied: google-auth-oauthlib<0.5,>=0.4.1 in /usr/local/lib/python3.6/dist-packages (from tensorboard<3,>=2.3.0->tensorflow) (0.4.2)\n",
            "Requirement already satisfied: setuptools>=41.0.0 in /usr/local/lib/python3.6/dist-packages (from tensorboard<3,>=2.3.0->tensorflow) (50.3.2)\n",
            "Requirement already satisfied: werkzeug>=0.11.15 in /usr/local/lib/python3.6/dist-packages (from tensorboard<3,>=2.3.0->tensorflow) (1.0.1)\n",
            "Requirement already satisfied: google-auth<2,>=1.6.3 in /usr/local/lib/python3.6/dist-packages (from tensorboard<3,>=2.3.0->tensorflow) (1.17.2)\n",
            "Requirement already satisfied: markdown>=2.6.8 in /usr/local/lib/python3.6/dist-packages (from tensorboard<3,>=2.3.0->tensorflow) (3.3.3)\n",
            "Requirement already satisfied: chardet<4,>=3.0.2 in /usr/local/lib/python3.6/dist-packages (from requests<3,>=2.21.0->tensorboard<3,>=2.3.0->tensorflow) (3.0.4)\n",
            "Requirement already satisfied: urllib3!=1.25.0,!=1.25.1,<1.26,>=1.21.1 in /usr/local/lib/python3.6/dist-packages (from requests<3,>=2.21.0->tensorboard<3,>=2.3.0->tensorflow) (1.24.3)\n",
            "Requirement already satisfied: idna<3,>=2.5 in /usr/local/lib/python3.6/dist-packages (from requests<3,>=2.21.0->tensorboard<3,>=2.3.0->tensorflow) (2.10)\n",
            "Requirement already satisfied: certifi>=2017.4.17 in /usr/local/lib/python3.6/dist-packages (from requests<3,>=2.21.0->tensorboard<3,>=2.3.0->tensorflow) (2020.6.20)\n",
            "Requirement already satisfied: requests-oauthlib>=0.7.0 in /usr/local/lib/python3.6/dist-packages (from google-auth-oauthlib<0.5,>=0.4.1->tensorboard<3,>=2.3.0->tensorflow) (1.3.0)\n",
            "Requirement already satisfied: cachetools<5.0,>=2.0.0 in /usr/local/lib/python3.6/dist-packages (from google-auth<2,>=1.6.3->tensorboard<3,>=2.3.0->tensorflow) (4.1.1)\n",
            "Requirement already satisfied: pyasn1-modules>=0.2.1 in /usr/local/lib/python3.6/dist-packages (from google-auth<2,>=1.6.3->tensorboard<3,>=2.3.0->tensorflow) (0.2.8)\n",
            "Requirement already satisfied: rsa<5,>=3.1.4; python_version >= \"3\" in /usr/local/lib/python3.6/dist-packages (from google-auth<2,>=1.6.3->tensorboard<3,>=2.3.0->tensorflow) (4.6)\n",
            "Requirement already satisfied: importlib-metadata; python_version < \"3.8\" in /usr/local/lib/python3.6/dist-packages (from markdown>=2.6.8->tensorboard<3,>=2.3.0->tensorflow) (2.0.0)\n",
            "Requirement already satisfied: oauthlib>=3.0.0 in /usr/local/lib/python3.6/dist-packages (from requests-oauthlib>=0.7.0->google-auth-oauthlib<0.5,>=0.4.1->tensorboard<3,>=2.3.0->tensorflow) (3.1.0)\n",
            "Requirement already satisfied: pyasn1<0.5.0,>=0.4.6 in /usr/local/lib/python3.6/dist-packages (from pyasn1-modules>=0.2.1->google-auth<2,>=1.6.3->tensorboard<3,>=2.3.0->tensorflow) (0.4.8)\n",
            "Requirement already satisfied: zipp>=0.5 in /usr/local/lib/python3.6/dist-packages (from importlib-metadata; python_version < \"3.8\"->markdown>=2.6.8->tensorboard<3,>=2.3.0->tensorflow) (3.4.0)\n"
          ],
          "name": "stdout"
        }
      ]
    },
    {
      "cell_type": "code",
      "metadata": {
        "id": "2U-5JIsfLnrq"
      },
      "source": [
        "# keras imports for the dataset and building our neural network\n",
        "from keras.datasets import mnist\n",
        "from keras.models import Sequential\n",
        "from keras.layers import Dense, Dropout, Conv2D, MaxPooling2D, Flatten\n",
        "from keras.utils import np_utils\n",
        "\n",
        "# to calculate accuracy\n",
        "from sklearn.metrics import accuracy_score"
      ],
      "execution_count": 3,
      "outputs": []
    },
    {
      "cell_type": "code",
      "metadata": {
        "id": "EGtvMQeo2Ord",
        "colab": {
          "base_uri": "https://localhost:8080/"
        },
        "outputId": "bdfe63f6-acae-425c-fbc5-47a09314b8bf"
      },
      "source": [
        "import numpy as np\n",
        "import pandas as pd\n",
        "from scipy import stats, integrate\n",
        "import matplotlib.pyplot as plt\n",
        "import seaborn as sns\n",
        "\n",
        "sns.set(color_codes=True)\n",
        "sns.set_theme(style=\"darkgrid\")\n",
        "train = pd.read_csv('/content/gdrive/My Drive/sign_mnist_train.csv') \n",
        "test = pd.read_csv('/content/gdrive/My Drive/sign_mnist_test.csv')\n",
        "\n",
        "\n",
        "labels = train['label'].values\n",
        "images = train.drop('label', axis=1)\n",
        "images = images.values\n",
        "images = np.array([np.reshape(i, (28,28)) for i in images])\n",
        "# convert 28x28 array into a 1d array of size 784\n",
        "images = np.array([i.flatten() for i in images])\n",
        "labels.shape\n",
        "# test.shape\n",
        "# train"
      ],
      "execution_count": 4,
      "outputs": [
        {
          "output_type": "execute_result",
          "data": {
            "text/plain": [
              "(27455,)"
            ]
          },
          "metadata": {
            "tags": []
          },
          "execution_count": 4
        }
      ]
    },
    {
      "cell_type": "code",
      "metadata": {
        "colab": {
          "base_uri": "https://localhost:8080/",
          "height": 285
        },
        "id": "7BJmmxiASw_U",
        "outputId": "e0d14172-136f-4917-a80d-4a872e59d3fa"
      },
      "source": [
        "sns.set_theme(style=\"darkgrid\")\n",
        "sns.set(rc={'figure.figsize':(12,4)})\n",
        "ax = sns.countplot(x=\"label\", data=train)\n",
        "# train\n",
        "# reveal the underlying distribution of the data\n"
      ],
      "execution_count": 5,
      "outputs": [
        {
          "output_type": "display_data",
          "data": {
            "image/png": "[encoded data removed]",
            "text/plain": [
              "<Figure size 864x288 with 1 Axes>"
            ]
          },
          "metadata": {
            "tags": []
          }
        }
      ]
    },
    {
      "cell_type": "code",
      "metadata": {
        "id": "C53URJdo24xt",
        "colab": {
          "base_uri": "https://localhost:8080/",
          "height": 346
        },
        "outputId": "ec20a7c6-a1ae-43e6-c4a5-fa82f0c5620b"
      },
      "source": [
        "train.describe()"
      ],
      "execution_count": 11,
      "outputs": [
        {
          "output_type": "execute_result",
          "data": {
            "text/html": [
              "<div>\n",
              "<style scoped>\n",
              "    .dataframe tbody tr th:only-of-type {\n",
              "        vertical-align: middle;\n",
              "    }\n",
              "\n",
              "    .dataframe tbody tr th {\n",
              "        vertical-align: top;\n",
              "    }\n",
              "\n",
              "    .dataframe thead th {\n",
              "        text-align: right;\n",
              "    }\n",
              "</style>\n",
              "<table border=\"1\" class=\"dataframe\">\n",
              "  <thead>\n",
              "    <tr style=\"text-align: right;\">\n",
              "      <th></th>\n",
              "      <th>label</th>\n",
              "      <th>pixel1</th>\n",
              "      <th>pixel2</th>\n",
              "      <th>pixel3</th>\n",
              "      <th>pixel4</th>\n",
              "      <th>pixel5</th>\n",
              "      <th>pixel6</th>\n",
              "      <th>pixel7</th>\n",
              "      <th>pixel8</th>\n",
              "      <th>pixel9</th>\n",
              "      <th>pixel10</th>\n",
              "      <th>pixel11</th>\n",
              "      <th>pixel12</th>\n",
              "      <th>pixel13</th>\n",
              "      <th>pixel14</th>\n",
              "      <th>pixel15</th>\n",
              "      <th>pixel16</th>\n",
              "      <th>pixel17</th>\n",
              "      <th>pixel18</th>\n",
              "      <th>pixel19</th>\n",
              "      <th>pixel20</th>\n",
              "      <th>pixel21</th>\n",
              "      <th>pixel22</th>\n",
              "      <th>pixel23</th>\n",
              "      <th>pixel24</th>\n",
              "      <th>pixel25</th>\n",
              "      <th>pixel26</th>\n",
              "      <th>pixel27</th>\n",
              "      <th>pixel28</th>\n",
              "      <th>pixel29</th>\n",
              "      <th>pixel30</th>\n",
              "      <th>pixel31</th>\n",
              "      <th>pixel32</th>\n",
              "      <th>pixel33</th>\n",
              "      <th>pixel34</th>\n",
              "      <th>pixel35</th>\n",
              "      <th>pixel36</th>\n",
              "      <th>pixel37</th>\n",
              "      <th>pixel38</th>\n",
              "      <th>pixel39</th>\n",
              "      <th>...</th>\n",
              "      <th>pixel745</th>\n",
              "      <th>pixel746</th>\n",
              "      <th>pixel747</th>\n",
              "      <th>pixel748</th>\n",
              "      <th>pixel749</th>\n",
              "      <th>pixel750</th>\n",
              "      <th>pixel751</th>\n",
              "      <th>pixel752</th>\n",
              "      <th>pixel753</th>\n",
              "      <th>pixel754</th>\n",
              "      <th>pixel755</th>\n",
              "      <th>pixel756</th>\n",
              "      <th>pixel757</th>\n",
              "      <th>pixel758</th>\n",
              "      <th>pixel759</th>\n",
              "      <th>pixel760</th>\n",
              "      <th>pixel761</th>\n",
              "      <th>pixel762</th>\n",
              "      <th>pixel763</th>\n",
              "      <th>pixel764</th>\n",
              "      <th>pixel765</th>\n",
              "      <th>pixel766</th>\n",
              "      <th>pixel767</th>\n",
              "      <th>pixel768</th>\n",
              "      <th>pixel769</th>\n",
              "      <th>pixel770</th>\n",
              "      <th>pixel771</th>\n",
              "      <th>pixel772</th>\n",
              "      <th>pixel773</th>\n",
              "      <th>pixel774</th>\n",
              "      <th>pixel775</th>\n",
              "      <th>pixel776</th>\n",
              "      <th>pixel777</th>\n",
              "      <th>pixel778</th>\n",
              "      <th>pixel779</th>\n",
              "      <th>pixel780</th>\n",
              "      <th>pixel781</th>\n",
              "      <th>pixel782</th>\n",
              "      <th>pixel783</th>\n",
              "      <th>pixel784</th>\n",
              "    </tr>\n",
              "  </thead>\n",
              "  <tbody>\n",
              "    <tr>\n",
              "      <th>count</th>\n",
              "      <td>27455.000000</td>\n",
              "      <td>27455.000000</td>\n",
              "      <td>27455.000000</td>\n",
              "      <td>27455.000000</td>\n",
              "      <td>27455.000000</td>\n",
              "      <td>27455.000000</td>\n",
              "      <td>27455.000000</td>\n",
              "      <td>27455.000000</td>\n",
              "      <td>27455.000000</td>\n",
              "      <td>27455.000000</td>\n",
              "      <td>27455.000000</td>\n",
              "      <td>27455.000000</td>\n",
              "      <td>27455.000000</td>\n",
              "      <td>27455.000000</td>\n",
              "      <td>27455.000000</td>\n",
              "      <td>27455.000000</td>\n",
              "      <td>27455.000000</td>\n",
              "      <td>27455.000000</td>\n",
              "      <td>27455.000000</td>\n",
              "      <td>27455.000000</td>\n",
              "      <td>27455.000000</td>\n",
              "      <td>27455.000000</td>\n",
              "      <td>27455.000000</td>\n",
              "      <td>27455.000000</td>\n",
              "      <td>27455.000000</td>\n",
              "      <td>27455.000000</td>\n",
              "      <td>27455.000000</td>\n",
              "      <td>27455.000000</td>\n",
              "      <td>27455.000000</td>\n",
              "      <td>27455.000000</td>\n",
              "      <td>27455.000000</td>\n",
              "      <td>27455.000000</td>\n",
              "      <td>27455.000000</td>\n",
              "      <td>27455.000000</td>\n",
              "      <td>27455.000000</td>\n",
              "      <td>27455.000000</td>\n",
              "      <td>27455.000000</td>\n",
              "      <td>27455.000000</td>\n",
              "      <td>27455.000000</td>\n",
              "      <td>27455.000000</td>\n",
              "      <td>...</td>\n",
              "      <td>27455.000000</td>\n",
              "      <td>27455.000000</td>\n",
              "      <td>27455.000000</td>\n",
              "      <td>27455.000000</td>\n",
              "      <td>27455.000000</td>\n",
              "      <td>27455.000000</td>\n",
              "      <td>27455.000000</td>\n",
              "      <td>27455.000000</td>\n",
              "      <td>27455.000000</td>\n",
              "      <td>27455.000000</td>\n",
              "      <td>27455.000000</td>\n",
              "      <td>27455.000000</td>\n",
              "      <td>27455.000000</td>\n",
              "      <td>27455.000000</td>\n",
              "      <td>27455.000000</td>\n",
              "      <td>27455.000000</td>\n",
              "      <td>27455.000000</td>\n",
              "      <td>27455.000000</td>\n",
              "      <td>27455.000000</td>\n",
              "      <td>27455.000000</td>\n",
              "      <td>27455.000000</td>\n",
              "      <td>27455.000000</td>\n",
              "      <td>27455.000000</td>\n",
              "      <td>27455.000000</td>\n",
              "      <td>27455.000000</td>\n",
              "      <td>27455.000000</td>\n",
              "      <td>27455.000000</td>\n",
              "      <td>27455.000000</td>\n",
              "      <td>27455.000000</td>\n",
              "      <td>27455.000000</td>\n",
              "      <td>27455.000000</td>\n",
              "      <td>27455.000000</td>\n",
              "      <td>27455.000000</td>\n",
              "      <td>27455.000000</td>\n",
              "      <td>27455.000000</td>\n",
              "      <td>27455.000000</td>\n",
              "      <td>27455.000000</td>\n",
              "      <td>27455.000000</td>\n",
              "      <td>27455.000000</td>\n",
              "      <td>27455.000000</td>\n",
              "    </tr>\n",
              "    <tr>\n",
              "      <th>mean</th>\n",
              "      <td>12.318813</td>\n",
              "      <td>145.419377</td>\n",
              "      <td>148.500273</td>\n",
              "      <td>151.247714</td>\n",
              "      <td>153.546531</td>\n",
              "      <td>156.210891</td>\n",
              "      <td>158.411255</td>\n",
              "      <td>160.472154</td>\n",
              "      <td>162.339683</td>\n",
              "      <td>163.954799</td>\n",
              "      <td>165.533673</td>\n",
              "      <td>166.685522</td>\n",
              "      <td>167.811983</td>\n",
              "      <td>168.495647</td>\n",
              "      <td>169.310872</td>\n",
              "      <td>169.956948</td>\n",
              "      <td>170.460463</td>\n",
              "      <td>170.716518</td>\n",
              "      <td>170.872701</td>\n",
              "      <td>170.808887</td>\n",
              "      <td>170.481442</td>\n",
              "      <td>169.979749</td>\n",
              "      <td>169.264506</td>\n",
              "      <td>168.144127</td>\n",
              "      <td>166.936660</td>\n",
              "      <td>165.765944</td>\n",
              "      <td>163.620725</td>\n",
              "      <td>161.933600</td>\n",
              "      <td>161.349117</td>\n",
              "      <td>147.146858</td>\n",
              "      <td>150.284502</td>\n",
              "      <td>152.941978</td>\n",
              "      <td>155.415043</td>\n",
              "      <td>158.068986</td>\n",
              "      <td>160.229576</td>\n",
              "      <td>162.345802</td>\n",
              "      <td>164.291167</td>\n",
              "      <td>165.736332</td>\n",
              "      <td>166.991732</td>\n",
              "      <td>168.503187</td>\n",
              "      <td>...</td>\n",
              "      <td>131.949918</td>\n",
              "      <td>134.583755</td>\n",
              "      <td>139.361974</td>\n",
              "      <td>148.115862</td>\n",
              "      <td>155.095465</td>\n",
              "      <td>160.346858</td>\n",
              "      <td>163.915607</td>\n",
              "      <td>165.364414</td>\n",
              "      <td>165.911273</td>\n",
              "      <td>165.182080</td>\n",
              "      <td>164.407977</td>\n",
              "      <td>163.488254</td>\n",
              "      <td>143.407758</td>\n",
              "      <td>144.189474</td>\n",
              "      <td>145.711637</td>\n",
              "      <td>147.660718</td>\n",
              "      <td>149.019414</td>\n",
              "      <td>148.670843</td>\n",
              "      <td>148.185212</td>\n",
              "      <td>147.298926</td>\n",
              "      <td>146.286323</td>\n",
              "      <td>144.027062</td>\n",
              "      <td>142.966017</td>\n",
              "      <td>139.769550</td>\n",
              "      <td>137.071572</td>\n",
              "      <td>135.277181</td>\n",
              "      <td>131.922783</td>\n",
              "      <td>130.232235</td>\n",
              "      <td>132.046367</td>\n",
              "      <td>135.289237</td>\n",
              "      <td>141.104863</td>\n",
              "      <td>147.495611</td>\n",
              "      <td>153.325806</td>\n",
              "      <td>159.125332</td>\n",
              "      <td>161.969259</td>\n",
              "      <td>162.736696</td>\n",
              "      <td>162.906137</td>\n",
              "      <td>161.966454</td>\n",
              "      <td>161.137898</td>\n",
              "      <td>159.824731</td>\n",
              "    </tr>\n",
              "    <tr>\n",
              "      <th>std</th>\n",
              "      <td>7.287552</td>\n",
              "      <td>41.358555</td>\n",
              "      <td>39.942152</td>\n",
              "      <td>39.056286</td>\n",
              "      <td>38.595247</td>\n",
              "      <td>37.111165</td>\n",
              "      <td>36.125579</td>\n",
              "      <td>35.016392</td>\n",
              "      <td>33.661998</td>\n",
              "      <td>32.651607</td>\n",
              "      <td>31.279244</td>\n",
              "      <td>30.558445</td>\n",
              "      <td>29.771007</td>\n",
              "      <td>29.329251</td>\n",
              "      <td>28.620248</td>\n",
              "      <td>27.961255</td>\n",
              "      <td>27.053544</td>\n",
              "      <td>26.763535</td>\n",
              "      <td>26.307419</td>\n",
              "      <td>26.088459</td>\n",
              "      <td>26.475963</td>\n",
              "      <td>26.940885</td>\n",
              "      <td>27.871515</td>\n",
              "      <td>29.368386</td>\n",
              "      <td>30.906718</td>\n",
              "      <td>31.902723</td>\n",
              "      <td>34.303747</td>\n",
              "      <td>35.991306</td>\n",
              "      <td>36.571064</td>\n",
              "      <td>41.555429</td>\n",
              "      <td>40.094304</td>\n",
              "      <td>39.427215</td>\n",
              "      <td>38.686176</td>\n",
              "      <td>37.242459</td>\n",
              "      <td>36.373576</td>\n",
              "      <td>35.242915</td>\n",
              "      <td>33.899171</td>\n",
              "      <td>32.759395</td>\n",
              "      <td>31.656140</td>\n",
              "      <td>30.833853</td>\n",
              "      <td>...</td>\n",
              "      <td>57.586028</td>\n",
              "      <td>60.373218</td>\n",
              "      <td>63.301768</td>\n",
              "      <td>63.300608</td>\n",
              "      <td>63.511566</td>\n",
              "      <td>62.551522</td>\n",
              "      <td>61.833119</td>\n",
              "      <td>62.210750</td>\n",
              "      <td>62.163516</td>\n",
              "      <td>61.958245</td>\n",
              "      <td>61.950177</td>\n",
              "      <td>62.403709</td>\n",
              "      <td>54.406116</td>\n",
              "      <td>53.658786</td>\n",
              "      <td>54.710497</td>\n",
              "      <td>54.613724</td>\n",
              "      <td>54.351761</td>\n",
              "      <td>55.233710</td>\n",
              "      <td>55.904715</td>\n",
              "      <td>57.155523</td>\n",
              "      <td>57.965677</td>\n",
              "      <td>57.393379</td>\n",
              "      <td>56.689603</td>\n",
              "      <td>56.118823</td>\n",
              "      <td>54.680900</td>\n",
              "      <td>55.278778</td>\n",
              "      <td>56.384076</td>\n",
              "      <td>58.111783</td>\n",
              "      <td>59.204300</td>\n",
              "      <td>62.553694</td>\n",
              "      <td>63.751194</td>\n",
              "      <td>65.512894</td>\n",
              "      <td>64.427412</td>\n",
              "      <td>63.708507</td>\n",
              "      <td>63.738316</td>\n",
              "      <td>63.444008</td>\n",
              "      <td>63.509210</td>\n",
              "      <td>63.298721</td>\n",
              "      <td>63.610415</td>\n",
              "      <td>64.396846</td>\n",
              "    </tr>\n",
              "    <tr>\n",
              "      <th>min</th>\n",
              "      <td>0.000000</td>\n",
              "      <td>0.000000</td>\n",
              "      <td>0.000000</td>\n",
              "      <td>0.000000</td>\n",
              "      <td>0.000000</td>\n",
              "      <td>0.000000</td>\n",
              "      <td>0.000000</td>\n",
              "      <td>0.000000</td>\n",
              "      <td>0.000000</td>\n",
              "      <td>0.000000</td>\n",
              "      <td>0.000000</td>\n",
              "      <td>0.000000</td>\n",
              "      <td>0.000000</td>\n",
              "      <td>0.000000</td>\n",
              "      <td>0.000000</td>\n",
              "      <td>0.000000</td>\n",
              "      <td>17.000000</td>\n",
              "      <td>23.000000</td>\n",
              "      <td>28.000000</td>\n",
              "      <td>34.000000</td>\n",
              "      <td>0.000000</td>\n",
              "      <td>0.000000</td>\n",
              "      <td>0.000000</td>\n",
              "      <td>0.000000</td>\n",
              "      <td>0.000000</td>\n",
              "      <td>0.000000</td>\n",
              "      <td>0.000000</td>\n",
              "      <td>0.000000</td>\n",
              "      <td>0.000000</td>\n",
              "      <td>0.000000</td>\n",
              "      <td>0.000000</td>\n",
              "      <td>0.000000</td>\n",
              "      <td>0.000000</td>\n",
              "      <td>0.000000</td>\n",
              "      <td>0.000000</td>\n",
              "      <td>0.000000</td>\n",
              "      <td>0.000000</td>\n",
              "      <td>0.000000</td>\n",
              "      <td>0.000000</td>\n",
              "      <td>0.000000</td>\n",
              "      <td>...</td>\n",
              "      <td>0.000000</td>\n",
              "      <td>0.000000</td>\n",
              "      <td>0.000000</td>\n",
              "      <td>0.000000</td>\n",
              "      <td>0.000000</td>\n",
              "      <td>0.000000</td>\n",
              "      <td>0.000000</td>\n",
              "      <td>0.000000</td>\n",
              "      <td>0.000000</td>\n",
              "      <td>0.000000</td>\n",
              "      <td>0.000000</td>\n",
              "      <td>0.000000</td>\n",
              "      <td>0.000000</td>\n",
              "      <td>0.000000</td>\n",
              "      <td>0.000000</td>\n",
              "      <td>0.000000</td>\n",
              "      <td>0.000000</td>\n",
              "      <td>0.000000</td>\n",
              "      <td>0.000000</td>\n",
              "      <td>0.000000</td>\n",
              "      <td>0.000000</td>\n",
              "      <td>0.000000</td>\n",
              "      <td>0.000000</td>\n",
              "      <td>0.000000</td>\n",
              "      <td>0.000000</td>\n",
              "      <td>0.000000</td>\n",
              "      <td>0.000000</td>\n",
              "      <td>0.000000</td>\n",
              "      <td>0.000000</td>\n",
              "      <td>0.000000</td>\n",
              "      <td>0.000000</td>\n",
              "      <td>0.000000</td>\n",
              "      <td>0.000000</td>\n",
              "      <td>0.000000</td>\n",
              "      <td>0.000000</td>\n",
              "      <td>0.000000</td>\n",
              "      <td>0.000000</td>\n",
              "      <td>0.000000</td>\n",
              "      <td>0.000000</td>\n",
              "      <td>0.000000</td>\n",
              "    </tr>\n",
              "    <tr>\n",
              "      <th>25%</th>\n",
              "      <td>6.000000</td>\n",
              "      <td>121.000000</td>\n",
              "      <td>126.000000</td>\n",
              "      <td>130.000000</td>\n",
              "      <td>133.000000</td>\n",
              "      <td>137.000000</td>\n",
              "      <td>140.000000</td>\n",
              "      <td>142.000000</td>\n",
              "      <td>144.000000</td>\n",
              "      <td>146.000000</td>\n",
              "      <td>148.000000</td>\n",
              "      <td>150.000000</td>\n",
              "      <td>151.000000</td>\n",
              "      <td>152.000000</td>\n",
              "      <td>153.000000</td>\n",
              "      <td>153.000000</td>\n",
              "      <td>154.000000</td>\n",
              "      <td>154.000000</td>\n",
              "      <td>154.000000</td>\n",
              "      <td>155.000000</td>\n",
              "      <td>154.000000</td>\n",
              "      <td>154.000000</td>\n",
              "      <td>154.000000</td>\n",
              "      <td>153.000000</td>\n",
              "      <td>152.000000</td>\n",
              "      <td>151.000000</td>\n",
              "      <td>149.000000</td>\n",
              "      <td>147.000000</td>\n",
              "      <td>147.000000</td>\n",
              "      <td>123.000000</td>\n",
              "      <td>128.000000</td>\n",
              "      <td>132.000000</td>\n",
              "      <td>135.000000</td>\n",
              "      <td>139.000000</td>\n",
              "      <td>141.000000</td>\n",
              "      <td>144.000000</td>\n",
              "      <td>146.000000</td>\n",
              "      <td>148.000000</td>\n",
              "      <td>149.000000</td>\n",
              "      <td>151.000000</td>\n",
              "      <td>...</td>\n",
              "      <td>91.000000</td>\n",
              "      <td>90.000000</td>\n",
              "      <td>90.000000</td>\n",
              "      <td>98.000000</td>\n",
              "      <td>104.000000</td>\n",
              "      <td>115.000000</td>\n",
              "      <td>127.000000</td>\n",
              "      <td>132.000000</td>\n",
              "      <td>137.000000</td>\n",
              "      <td>138.000000</td>\n",
              "      <td>140.000000</td>\n",
              "      <td>138.000000</td>\n",
              "      <td>104.000000</td>\n",
              "      <td>104.000000</td>\n",
              "      <td>105.000000</td>\n",
              "      <td>106.000000</td>\n",
              "      <td>107.000000</td>\n",
              "      <td>107.000000</td>\n",
              "      <td>106.000000</td>\n",
              "      <td>106.000000</td>\n",
              "      <td>105.000000</td>\n",
              "      <td>104.000000</td>\n",
              "      <td>104.000000</td>\n",
              "      <td>102.000000</td>\n",
              "      <td>102.000000</td>\n",
              "      <td>99.000000</td>\n",
              "      <td>94.000000</td>\n",
              "      <td>90.000000</td>\n",
              "      <td>90.000000</td>\n",
              "      <td>89.000000</td>\n",
              "      <td>92.000000</td>\n",
              "      <td>96.000000</td>\n",
              "      <td>103.000000</td>\n",
              "      <td>112.000000</td>\n",
              "      <td>120.000000</td>\n",
              "      <td>125.000000</td>\n",
              "      <td>128.000000</td>\n",
              "      <td>128.000000</td>\n",
              "      <td>128.000000</td>\n",
              "      <td>125.500000</td>\n",
              "    </tr>\n",
              "    <tr>\n",
              "      <th>50%</th>\n",
              "      <td>13.000000</td>\n",
              "      <td>150.000000</td>\n",
              "      <td>153.000000</td>\n",
              "      <td>156.000000</td>\n",
              "      <td>158.000000</td>\n",
              "      <td>160.000000</td>\n",
              "      <td>162.000000</td>\n",
              "      <td>164.000000</td>\n",
              "      <td>165.000000</td>\n",
              "      <td>166.000000</td>\n",
              "      <td>167.000000</td>\n",
              "      <td>168.000000</td>\n",
              "      <td>169.000000</td>\n",
              "      <td>170.000000</td>\n",
              "      <td>170.000000</td>\n",
              "      <td>171.000000</td>\n",
              "      <td>171.000000</td>\n",
              "      <td>171.000000</td>\n",
              "      <td>171.000000</td>\n",
              "      <td>171.000000</td>\n",
              "      <td>170.000000</td>\n",
              "      <td>170.000000</td>\n",
              "      <td>170.000000</td>\n",
              "      <td>169.000000</td>\n",
              "      <td>168.000000</td>\n",
              "      <td>168.000000</td>\n",
              "      <td>167.000000</td>\n",
              "      <td>166.000000</td>\n",
              "      <td>165.000000</td>\n",
              "      <td>152.000000</td>\n",
              "      <td>155.000000</td>\n",
              "      <td>157.000000</td>\n",
              "      <td>160.000000</td>\n",
              "      <td>162.000000</td>\n",
              "      <td>164.000000</td>\n",
              "      <td>166.000000</td>\n",
              "      <td>167.000000</td>\n",
              "      <td>168.000000</td>\n",
              "      <td>169.000000</td>\n",
              "      <td>170.000000</td>\n",
              "      <td>...</td>\n",
              "      <td>127.000000</td>\n",
              "      <td>130.000000</td>\n",
              "      <td>139.000000</td>\n",
              "      <td>161.000000</td>\n",
              "      <td>175.000000</td>\n",
              "      <td>181.000000</td>\n",
              "      <td>184.000000</td>\n",
              "      <td>185.000000</td>\n",
              "      <td>186.000000</td>\n",
              "      <td>185.000000</td>\n",
              "      <td>184.000000</td>\n",
              "      <td>184.000000</td>\n",
              "      <td>145.000000</td>\n",
              "      <td>146.000000</td>\n",
              "      <td>149.000000</td>\n",
              "      <td>151.000000</td>\n",
              "      <td>153.000000</td>\n",
              "      <td>153.000000</td>\n",
              "      <td>154.000000</td>\n",
              "      <td>152.000000</td>\n",
              "      <td>153.000000</td>\n",
              "      <td>152.000000</td>\n",
              "      <td>150.000000</td>\n",
              "      <td>146.000000</td>\n",
              "      <td>141.000000</td>\n",
              "      <td>137.000000</td>\n",
              "      <td>131.000000</td>\n",
              "      <td>128.000000</td>\n",
              "      <td>128.000000</td>\n",
              "      <td>132.000000</td>\n",
              "      <td>144.000000</td>\n",
              "      <td>162.000000</td>\n",
              "      <td>172.000000</td>\n",
              "      <td>180.000000</td>\n",
              "      <td>183.000000</td>\n",
              "      <td>184.000000</td>\n",
              "      <td>184.000000</td>\n",
              "      <td>182.000000</td>\n",
              "      <td>182.000000</td>\n",
              "      <td>182.000000</td>\n",
              "    </tr>\n",
              "    <tr>\n",
              "      <th>75%</th>\n",
              "      <td>19.000000</td>\n",
              "      <td>174.000000</td>\n",
              "      <td>176.000000</td>\n",
              "      <td>178.000000</td>\n",
              "      <td>179.000000</td>\n",
              "      <td>181.000000</td>\n",
              "      <td>182.000000</td>\n",
              "      <td>183.000000</td>\n",
              "      <td>184.000000</td>\n",
              "      <td>185.000000</td>\n",
              "      <td>186.000000</td>\n",
              "      <td>186.000000</td>\n",
              "      <td>187.000000</td>\n",
              "      <td>187.000000</td>\n",
              "      <td>187.000000</td>\n",
              "      <td>188.000000</td>\n",
              "      <td>188.000000</td>\n",
              "      <td>188.000000</td>\n",
              "      <td>187.000000</td>\n",
              "      <td>187.000000</td>\n",
              "      <td>187.000000</td>\n",
              "      <td>187.000000</td>\n",
              "      <td>186.000000</td>\n",
              "      <td>186.000000</td>\n",
              "      <td>186.000000</td>\n",
              "      <td>185.000000</td>\n",
              "      <td>184.000000</td>\n",
              "      <td>184.000000</td>\n",
              "      <td>183.000000</td>\n",
              "      <td>176.000000</td>\n",
              "      <td>178.000000</td>\n",
              "      <td>180.000000</td>\n",
              "      <td>181.000000</td>\n",
              "      <td>183.000000</td>\n",
              "      <td>184.000000</td>\n",
              "      <td>185.000000</td>\n",
              "      <td>186.000000</td>\n",
              "      <td>187.000000</td>\n",
              "      <td>187.000000</td>\n",
              "      <td>188.000000</td>\n",
              "      <td>...</td>\n",
              "      <td>177.000000</td>\n",
              "      <td>186.000000</td>\n",
              "      <td>195.000000</td>\n",
              "      <td>201.000000</td>\n",
              "      <td>205.000000</td>\n",
              "      <td>207.000000</td>\n",
              "      <td>207.000000</td>\n",
              "      <td>208.000000</td>\n",
              "      <td>208.000000</td>\n",
              "      <td>207.000000</td>\n",
              "      <td>206.000000</td>\n",
              "      <td>205.000000</td>\n",
              "      <td>187.000000</td>\n",
              "      <td>187.000000</td>\n",
              "      <td>190.000000</td>\n",
              "      <td>192.000000</td>\n",
              "      <td>193.000000</td>\n",
              "      <td>193.000000</td>\n",
              "      <td>192.000000</td>\n",
              "      <td>193.000000</td>\n",
              "      <td>192.000000</td>\n",
              "      <td>188.000000</td>\n",
              "      <td>185.000000</td>\n",
              "      <td>181.000000</td>\n",
              "      <td>176.000000</td>\n",
              "      <td>174.000000</td>\n",
              "      <td>172.000000</td>\n",
              "      <td>173.000000</td>\n",
              "      <td>180.000000</td>\n",
              "      <td>189.000000</td>\n",
              "      <td>196.000000</td>\n",
              "      <td>202.000000</td>\n",
              "      <td>205.000000</td>\n",
              "      <td>207.000000</td>\n",
              "      <td>208.000000</td>\n",
              "      <td>207.000000</td>\n",
              "      <td>207.000000</td>\n",
              "      <td>206.000000</td>\n",
              "      <td>204.000000</td>\n",
              "      <td>204.000000</td>\n",
              "    </tr>\n",
              "    <tr>\n",
              "      <th>max</th>\n",
              "      <td>24.000000</td>\n",
              "      <td>255.000000</td>\n",
              "      <td>255.000000</td>\n",
              "      <td>255.000000</td>\n",
              "      <td>255.000000</td>\n",
              "      <td>255.000000</td>\n",
              "      <td>255.000000</td>\n",
              "      <td>255.000000</td>\n",
              "      <td>255.000000</td>\n",
              "      <td>255.000000</td>\n",
              "      <td>255.000000</td>\n",
              "      <td>255.000000</td>\n",
              "      <td>255.000000</td>\n",
              "      <td>255.000000</td>\n",
              "      <td>255.000000</td>\n",
              "      <td>255.000000</td>\n",
              "      <td>255.000000</td>\n",
              "      <td>255.000000</td>\n",
              "      <td>255.000000</td>\n",
              "      <td>255.000000</td>\n",
              "      <td>255.000000</td>\n",
              "      <td>255.000000</td>\n",
              "      <td>255.000000</td>\n",
              "      <td>255.000000</td>\n",
              "      <td>255.000000</td>\n",
              "      <td>255.000000</td>\n",
              "      <td>255.000000</td>\n",
              "      <td>255.000000</td>\n",
              "      <td>255.000000</td>\n",
              "      <td>255.000000</td>\n",
              "      <td>255.000000</td>\n",
              "      <td>255.000000</td>\n",
              "      <td>255.000000</td>\n",
              "      <td>255.000000</td>\n",
              "      <td>255.000000</td>\n",
              "      <td>255.000000</td>\n",
              "      <td>255.000000</td>\n",
              "      <td>255.000000</td>\n",
              "      <td>255.000000</td>\n",
              "      <td>255.000000</td>\n",
              "      <td>...</td>\n",
              "      <td>255.000000</td>\n",
              "      <td>255.000000</td>\n",
              "      <td>255.000000</td>\n",
              "      <td>255.000000</td>\n",
              "      <td>255.000000</td>\n",
              "      <td>255.000000</td>\n",
              "      <td>255.000000</td>\n",
              "      <td>255.000000</td>\n",
              "      <td>255.000000</td>\n",
              "      <td>255.000000</td>\n",
              "      <td>255.000000</td>\n",
              "      <td>255.000000</td>\n",
              "      <td>255.000000</td>\n",
              "      <td>255.000000</td>\n",
              "      <td>255.000000</td>\n",
              "      <td>255.000000</td>\n",
              "      <td>255.000000</td>\n",
              "      <td>255.000000</td>\n",
              "      <td>255.000000</td>\n",
              "      <td>255.000000</td>\n",
              "      <td>255.000000</td>\n",
              "      <td>255.000000</td>\n",
              "      <td>255.000000</td>\n",
              "      <td>255.000000</td>\n",
              "      <td>255.000000</td>\n",
              "      <td>255.000000</td>\n",
              "      <td>255.000000</td>\n",
              "      <td>255.000000</td>\n",
              "      <td>255.000000</td>\n",
              "      <td>255.000000</td>\n",
              "      <td>255.000000</td>\n",
              "      <td>255.000000</td>\n",
              "      <td>255.000000</td>\n",
              "      <td>255.000000</td>\n",
              "      <td>255.000000</td>\n",
              "      <td>255.000000</td>\n",
              "      <td>255.000000</td>\n",
              "      <td>255.000000</td>\n",
              "      <td>255.000000</td>\n",
              "      <td>255.000000</td>\n",
              "    </tr>\n",
              "  </tbody>\n",
              "</table>\n",
              "<p>8 rows × 785 columns</p>\n",
              "</div>"
            ],
            "text/plain": [
              "              label        pixel1  ...      pixel783      pixel784\n",
              "count  27455.000000  27455.000000  ...  27455.000000  27455.000000\n",
              "mean      12.318813    145.419377  ...    161.137898    159.824731\n",
              "std        7.287552     41.358555  ...     63.610415     64.396846\n",
              "min        0.000000      0.000000  ...      0.000000      0.000000\n",
              "25%        6.000000    121.000000  ...    128.000000    125.500000\n",
              "50%       13.000000    150.000000  ...    182.000000    182.000000\n",
              "75%       19.000000    174.000000  ...    204.000000    204.000000\n",
              "max       24.000000    255.000000  ...    255.000000    255.000000\n",
              "\n",
              "[8 rows x 785 columns]"
            ]
          },
          "metadata": {
            "tags": []
          },
          "execution_count": 11
        }
      ]
    },
    {
      "cell_type": "code",
      "metadata": {
        "id": "N_YTw7DJ3G2e"
      },
      "source": [
        ""
      ],
      "execution_count": 51,
      "outputs": []
    },
    {
      "cell_type": "code",
      "metadata": {
        "id": "0X4oSpHA5Psx",
        "colab": {
          "base_uri": "https://localhost:8080/"
        },
        "outputId": "ad829985-90b7-47e1-e380-8bbdb60d787c"
      },
      "source": [
        "from sklearn.model_selection import train_test_split\n",
        "x_train, x_val, y_train, y_val = train_test_split(images, labels, test_size = 0.3, random_state = 99)\n",
        "\n",
        "# # add bias\n",
        "x_train = x_train.reshape(x_train.shape[0], 28, 28, 1)\n",
        "x_val = x_val.reshape(x_val.shape[0], 28, 28, 1)\n",
        "\n",
        "\n",
        "# x_train = x_train.reshape(-1, 28, 28, 1)\n",
        "# x_val = x_val.reshape(-1, 28, 28, 1)\n",
        "\n",
        "x_train = x_train.astype('float32')\n",
        "x_val = x_val.astype('float32')\n",
        "\n",
        "# Normalize the data\n",
        "x_train = x_train / 255\n",
        "x_val = x_val / 255\n",
        "\n",
        "n_classes = 26\n",
        "\n",
        "y_train = np_utils.to_categorical(y_train, n_classes)\n",
        "y_val = np_utils.to_categorical(y_val, n_classes)\n",
        "\n",
        "\n",
        "print(x_train.shape)"
      ],
      "execution_count": 6,
      "outputs": [
        {
          "output_type": "stream",
          "text": [
            "(19218, 28, 28, 1)\n"
          ],
          "name": "stdout"
        }
      ]
    },
    {
      "cell_type": "code",
      "metadata": {
        "colab": {
          "base_uri": "https://localhost:8080/",
          "height": 126
        },
        "id": "I9kZI6kfVYPf",
        "outputId": "6e77bb4a-0625-4aa3-81cc-045d8f52ca6e"
      },
      "source": [
        "# Let's take a look at the images\n",
        "plt.figure(figsize=(16, 4))\n",
        "for i in range(8):\n",
        "    ax = plt.subplot(2, 8, i + 1)\n",
        "    plt.imshow(x_train[i].reshape(28, 28))\n",
        "    plt.gray()\n",
        "    ax.get_xaxis().set_visible(False)\n",
        "    ax.get_yaxis().set_visible(False)\n",
        "\n",
        "plt.show()"
      ],
      "execution_count": 7,
      "outputs": [
        {
          "output_type": "display_data",
          "data": {
            "image/png": "[encoded data removed]",
            "text/plain": [
              "<Figure size 1152x288 with 8 Axes>"
            ]
          },
          "metadata": {
            "tags": []
          }
        }
      ]
    },
    {
      "cell_type": "code",
      "metadata": {
        "id": "m5UQRy3Z6Anw",
        "colab": {
          "base_uri": "https://localhost:8080/"
        },
        "outputId": "b365a778-95e7-4d72-e1ac-653da80753eb"
      },
      "source": [
        "len(set(labels))"
      ],
      "execution_count": 8,
      "outputs": [
        {
          "output_type": "execute_result",
          "data": {
            "text/plain": [
              "24"
            ]
          },
          "metadata": {
            "tags": []
          },
          "execution_count": 8
        }
      ]
    },
    {
      "cell_type": "code",
      "metadata": {
        "id": "A3-R8qdG6W7t"
      },
      "source": [
        ""
      ],
      "execution_count": 8,
      "outputs": []
    },
    {
      "cell_type": "code",
      "metadata": {
        "id": "R-Gc9rV56uAk",
        "colab": {
          "base_uri": "https://localhost:8080/"
        },
        "outputId": "8bb1e875-de2e-427c-95f1-7672bf9e80a0"
      },
      "source": [
        "# Training\n",
        "# Batch size, number of classes and number of epochs\n",
        "batch_size = 128\n",
        "epochs = 10\n",
        "\n",
        "x_train.shape, y_train.shape, x_val.shape, y_val.shape"
      ],
      "execution_count": 9,
      "outputs": [
        {
          "output_type": "execute_result",
          "data": {
            "text/plain": [
              "((19218, 28, 28, 1), (19218, 26), (8237, 28, 28, 1), (8237, 26))"
            ]
          },
          "metadata": {
            "tags": []
          },
          "execution_count": 9
        }
      ]
    },
    {
      "cell_type": "code",
      "metadata": {
        "id": "OMTGh_vR67uA",
        "colab": {
          "base_uri": "https://localhost:8080/"
        },
        "outputId": "458df1a6-ae34-4668-d6c4-7c88770fe776"
      },
      "source": [
        "# CNN\n",
        "# pooling layers, reduces the size of the convolution output, reduce # of parameters to optimize\n",
        "import tensorflow as tf\n",
        "from tensorflow import keras\n",
        "from tensorflow.keras import layers\n",
        "\n",
        "# model = Sequential()\n",
        "# model.add(Conv2D(125, kernel_size = (3,3), activation = 'relu', input_shape = (28,28,1)))\n",
        "# model.add(MaxPooling2D(pool_size = (2,2)))\n",
        "# model.add(Conv2D(75, kernel_size = (3,3), activation = 'relu'))\n",
        "# model.add(MaxPooling2D(pool_size = (2,2)))\n",
        "# model.add(Conv2D(50, kernel_size = (3,3), activation = 'relu'))\n",
        "# model.add(MaxPooling2D(pool_size = (2,2)))\n",
        "\n",
        "# model.add(Flatten())\n",
        "# model.add(Dense(25, activation ='relu'))\n",
        "# model.add(Dropout(0.20))\n",
        "\n",
        "# model.add(Dense(n_classes, activation = 'softmax'))\n",
        "\n",
        "# model.compile(loss='categorical_crossentropy', metrics=['accuracy'], optimizer='adam')\n",
        "\n",
        "model = Sequential()\n",
        "model.add(Conv2D(64 , (3,3) , activation = 'relu' , input_shape = (28,28,1)))\n",
        "# model.add(BatchNormalization())\n",
        "model.add(MaxPooling2D((2,2)))\n",
        "model.add(Conv2D(128 , (3,3), activation = 'relu'))\n",
        "model.add(Dropout(0.2))\n",
        "\n",
        "# model.add(BatchNormalization())\n",
        "model.add(MaxPooling2D((2,2)))\n",
        "model.add(Conv2D(256 , (3,3) , activation = 'relu'))\n",
        "# model.add(BatchNormalization())\n",
        "model.add(MaxPooling2D((2,2)))\n",
        "# model.add(Conv2D(512 , (3,3) , activation = 'relu'))\n",
        "# model.add(MaxPooling2D((2,2)))\n",
        "model.add(Flatten())\n",
        "model.add(Dense(units = 512 , activation = 'relu'))\n",
        "model.add(Dropout(0.3))\n",
        "model.add(Dense(units = n_classes , activation = 'softmax'))\n",
        "model.compile(optimizer = 'adam' , loss = 'categorical_crossentropy' , metrics = ['accuracy'])\n",
        "# training the model for 10 epochs\n",
        "history1 = model.fit(x_train, y_train, batch_size = 128 ,epochs = 10 , validation_data= (x_val,y_val))\n",
        "# model.fit(x_train, y_train, batch_size=100, epochs=10, validation_data=(x_val, y_val))\n",
        "\n"
      ],
      "execution_count": 153,
      "outputs": [
        {
          "output_type": "stream",
          "text": [
            "Epoch 1/10\n",
            "151/151 [==============================] - 53s 354ms/step - loss: 2.0997 - accuracy: 0.3493 - val_loss: 0.9048 - val_accuracy: 0.7478\n",
            "Epoch 2/10\n",
            "151/151 [==============================] - 53s 351ms/step - loss: 0.6263 - accuracy: 0.7885 - val_loss: 0.3331 - val_accuracy: 0.9087\n",
            "Epoch 3/10\n",
            "151/151 [==============================] - 53s 351ms/step - loss: 0.2666 - accuracy: 0.9124 - val_loss: 0.1806 - val_accuracy: 0.9554\n",
            "Epoch 4/10\n",
            "151/151 [==============================] - 53s 354ms/step - loss: 0.1190 - accuracy: 0.9647 - val_loss: 0.0656 - val_accuracy: 0.9885\n",
            "Epoch 5/10\n",
            "151/151 [==============================] - 53s 352ms/step - loss: 0.0543 - accuracy: 0.9867 - val_loss: 0.0259 - val_accuracy: 0.9989\n",
            "Epoch 6/10\n",
            "151/151 [==============================] - 57s 379ms/step - loss: 0.0330 - accuracy: 0.9921 - val_loss: 0.0342 - val_accuracy: 0.9934\n",
            "Epoch 7/10\n",
            "151/151 [==============================] - 53s 351ms/step - loss: 0.0223 - accuracy: 0.9944 - val_loss: 0.0083 - val_accuracy: 0.9998\n",
            "Epoch 8/10\n",
            "151/151 [==============================] - 53s 350ms/step - loss: 0.0137 - accuracy: 0.9969 - val_loss: 0.0112 - val_accuracy: 0.9990\n",
            "Epoch 9/10\n",
            "151/151 [==============================] - 53s 350ms/step - loss: 0.0131 - accuracy: 0.9967 - val_loss: 0.0029 - val_accuracy: 0.9998\n",
            "Epoch 10/10\n",
            "151/151 [==============================] - 53s 350ms/step - loss: 0.0128 - accuracy: 0.9970 - val_loss: 0.0036 - val_accuracy: 0.9999\n"
          ],
          "name": "stdout"
        }
      ]
    },
    {
      "cell_type": "code",
      "metadata": {
        "id": "gkq1XZV69Pbh"
      },
      "source": [
        ""
      ],
      "execution_count": 24,
      "outputs": []
    },
    {
      "cell_type": "code",
      "metadata": {
        "id": "oDKYFobO7FBH"
      },
      "source": [
        "# Maybe try different activation functions\n",
        "# new dataset so words instead of letters"
      ],
      "execution_count": 25,
      "outputs": []
    },
    {
      "cell_type": "code",
      "metadata": {
        "id": "Z7aI9Vmr9dNR",
        "colab": {
          "base_uri": "https://localhost:8080/"
        },
        "outputId": "240c40c8-1d28-4769-bbec-fee704fe0845"
      },
      "source": [
        "testing = pd.read_csv('/content/gdrive/My Drive/sign_mnist_test.csv')\n",
        "testing_labels = testing['label'].values\n",
        "testing = testing.drop('label', axis=1)\n",
        "testing = testing.values\n",
        "print(testing.shape)\n",
        "\n",
        "\n",
        "testing = np.array([np.reshape(i, (28,28)) for i in testing])\n",
        "print(testing.shape)\n",
        "# convert 28x28 array into a 1d array of size 784\n",
        "testing = np.array([i.flatten() for i in testing])\n",
        "print(testing.shape)"
      ],
      "execution_count": 154,
      "outputs": [
        {
          "output_type": "stream",
          "text": [
            "(7172, 784)\n",
            "(7172, 28, 28)\n",
            "(7172, 784)\n"
          ],
          "name": "stdout"
        }
      ]
    },
    {
      "cell_type": "code",
      "metadata": {
        "id": "RsCiG2y89rYj",
        "colab": {
          "base_uri": "https://localhost:8080/"
        },
        "outputId": "84b4dec0-9c21-400d-e8e5-306d80c17a0b"
      },
      "source": [
        "# add bias\n",
        "x_testing = testing.reshape(testing.shape[0], 28, 28, 1)\n",
        "x_testing = x_testing.astype('float32')\n",
        "\n",
        "# Normalize the data\n",
        "x_testing = x_testing / 255\n",
        "\n",
        "\n",
        "y_test = np_utils.to_categorical(testing_labels, n_classes)\n",
        "x_testing.shape"
      ],
      "execution_count": 155,
      "outputs": [
        {
          "output_type": "execute_result",
          "data": {
            "text/plain": [
              "(7172, 28, 28, 1)"
            ]
          },
          "metadata": {
            "tags": []
          },
          "execution_count": 155
        }
      ]
    },
    {
      "cell_type": "code",
      "metadata": {
        "id": "3kpbfC4Q9_9r",
        "colab": {
          "base_uri": "https://localhost:8080/"
        },
        "outputId": "72654890-3f46-459d-9669-2ac232621bb8"
      },
      "source": [
        "print(\"Accuracy of the model is - \" , model.evaluate(x_testing,y_test)[1]*100 , \"%\")"
      ],
      "execution_count": 156,
      "outputs": [
        {
          "output_type": "stream",
          "text": [
            "225/225 [==============================] - 4s 19ms/step - loss: 0.3303 - accuracy: 0.9112\n",
            "Accuracy of the model is -  91.11824035644531 %\n"
          ],
          "name": "stdout"
        }
      ]
    },
    {
      "cell_type": "code",
      "metadata": {
        "id": "v4Q4b4Bg-IEJ"
      },
      "source": [
        "# convert to 1-26\n",
        "y_pred = model.predict(x_testing)\n",
        "yy = []\n",
        "for i in range(len(y_pred)):\n",
        "  yy.append(np.argmax(y_pred[i]))\n"
      ],
      "execution_count": 157,
      "outputs": []
    },
    {
      "cell_type": "code",
      "metadata": {
        "id": "0OF5dMP0-J5d",
        "colab": {
          "base_uri": "https://localhost:8080/"
        },
        "outputId": "2930f726-6c86-492c-a5b2-bc5cda655eaa"
      },
      "source": [
        "# Before using VGG16 architecture 0.8353318460680423\n",
        "accuracy_score(testing_labels, yy)"
      ],
      "execution_count": 74,
      "outputs": [
        {
          "output_type": "execute_result",
          "data": {
            "text/plain": [
              "0.8353318460680423"
            ]
          },
          "metadata": {
            "tags": []
          },
          "execution_count": 74
        }
      ]
    },
    {
      "cell_type": "code",
      "metadata": {
        "colab": {
          "base_uri": "https://localhost:8080/",
          "height": 355
        },
        "id": "z29JRht5k7iX",
        "outputId": "70315a82-bf51-480d-801f-b2e94ac2eb6a"
      },
      "source": [
        "fig , subb = plt.subplots(1,2)\n",
        "t_acc = history1.history['accuracy']\n",
        "t_loss = history1.history['loss']\n",
        "fig.set_size_inches(15,5)\n",
        "\n",
        "subb[0].set_title('Training Accuracy vs Validation Accuracy')\n",
        "subb[1].set_title('Training Loss vs Validation Loss')\n",
        "\n",
        "subb[0].set_ylabel('Accuracy')\n",
        "subb[1].set_ylabel('Loss')\n",
        "subb[0].set_xlabel('Epoch')\n",
        "subb[1].set_xlabel('Epoch')\n",
        "\n",
        "\n",
        "subb[0].plot(history1.history['accuracy'], color = 'c', label = 'Train Accuracy')\n",
        "subb[0].plot(history1.history['val_accuracy'], color = 'coral', label = 'Validation Accuracy')\n",
        "\n",
        "subb[1].plot(history1.history['loss'], color = 'c', label = 'Train Accuracy')\n",
        "subb[1].plot(history1.history['val_loss'], color = 'coral', label = 'Validation Accuracy')\n",
        "\n",
        "# legend\n",
        "subb[0].legend(loc='lower right')\n",
        "subb[1].legend( loc='upper right')\n",
        "\n",
        "plt.show()\n"
      ],
      "execution_count": 164,
      "outputs": [
        {
          "output_type": "display_data",
          "data": {
            "image/png": "[encoded data removed]",
            "text/plain": [
              "<Figure size 1080x360 with 2 Axes>"
            ]
          },
          "metadata": {
            "tags": []
          }
        }
      ]
    },
    {
      "cell_type": "markdown",
      "metadata": {
        "id": "hvvOP-fNcQLn"
      },
      "source": [
        "Try Data Augmentation\n"
      ]
    },
    {
      "cell_type": "code",
      "metadata": {
        "id": "Na685ZsrATGG"
      },
      "source": [
        "from keras.preprocessing.image import ImageDataGenerator as imgen\n",
        "# data augmentation\n",
        "datagen = imgen(\n",
        "        featurewise_center=False,  # set input mean to 0 over the dataset\n",
        "        samplewise_center=False,  # set each sample mean to 0\n",
        "        featurewise_std_normalization=False,  # divide inputs by std of the dataset\n",
        "        samplewise_std_normalization=False,  # divide each input by its std\n",
        "        zca_whitening=False,  # dimesion reduction\n",
        "        rotation_range=30,  # randomly rotate images in the range 15 degrees\n",
        "        zoom_range = 0.1, # Randomly zoom image 5%\n",
        "        width_shift_range=0.15,  # randomly shift images horizontally 15%\n",
        "        height_shift_range=0.15,  # randomly shift images vertically 15%\n",
        "        horizontal_flip=True,  # randomly flip images\n",
        "        vertical_flip=False)  # randomly flip images\n",
        "\n",
        "datagen.fit(x_train)"
      ],
      "execution_count": 31,
      "outputs": []
    },
    {
      "cell_type": "code",
      "metadata": {
        "colab": {
          "base_uri": "https://localhost:8080/"
        },
        "id": "ckiLrnv7PGtH",
        "outputId": "176f3c5f-49a0-4d69-cb1c-b0c1587e8e8a"
      },
      "source": [
        "model2 = Sequential()\n",
        "model2.add(Conv2D(64 , (3,3) , activation = 'relu' , input_shape = (28,28,1)))\n",
        "\n",
        "model2.add(MaxPooling2D((2,2)))\n",
        "model2.add(Conv2D(128 , (3,3), activation = 'relu'))\n",
        "model2.add(Dropout(0.2))\n",
        "model2.add(MaxPooling2D((2,2)))\n",
        "model2.add(Conv2D(256 , (3,3) , activation = 'relu'))\n",
        "model2.add(MaxPooling2D((2,2)))\n",
        "model2.add(Flatten())\n",
        "model2.add(Dense(units = 512 , activation = 'relu'))\n",
        "model2.add(Dropout(0.3))\n",
        "model2.add(Dense(units = n_classes , activation = 'softmax'))\n",
        "model2.compile(optimizer = 'adam' , loss = 'categorical_crossentropy' , metrics = ['accuracy'])\n",
        "\n",
        "history2 = model2.fit_generator(datagen.flow(x_train,y_train, batch_size=128),epochs = 20, validation_data = (x_val,y_val))"
      ],
      "execution_count": 170,
      "outputs": [
        {
          "output_type": "stream",
          "text": [
            "Epoch 1/20\n",
            "151/151 [==============================] - 57s 380ms/step - loss: 3.1053 - accuracy: 0.0720 - val_loss: 2.6859 - val_accuracy: 0.1718\n",
            "Epoch 2/20\n",
            "151/151 [==============================] - 58s 384ms/step - loss: 2.4045 - accuracy: 0.2369 - val_loss: 1.7121 - val_accuracy: 0.4277\n",
            "Epoch 3/20\n",
            "151/151 [==============================] - 58s 383ms/step - loss: 1.8210 - accuracy: 0.3927 - val_loss: 1.2453 - val_accuracy: 0.5796\n",
            "Epoch 4/20\n",
            "151/151 [==============================] - 58s 383ms/step - loss: 1.4904 - accuracy: 0.4977 - val_loss: 0.9981 - val_accuracy: 0.6784\n",
            "Epoch 5/20\n",
            "151/151 [==============================] - 58s 381ms/step - loss: 1.2724 - accuracy: 0.5678 - val_loss: 0.7916 - val_accuracy: 0.7703\n",
            "Epoch 6/20\n",
            "151/151 [==============================] - 58s 384ms/step - loss: 1.1014 - accuracy: 0.6249 - val_loss: 0.6737 - val_accuracy: 0.7860\n",
            "Epoch 7/20\n",
            "151/151 [==============================] - 58s 386ms/step - loss: 0.9647 - accuracy: 0.6671 - val_loss: 0.5822 - val_accuracy: 0.7997\n",
            "Epoch 8/20\n",
            "151/151 [==============================] - 58s 382ms/step - loss: 0.8689 - accuracy: 0.7023 - val_loss: 0.4746 - val_accuracy: 0.8521\n",
            "Epoch 9/20\n",
            "151/151 [==============================] - 57s 379ms/step - loss: 0.7923 - accuracy: 0.7277 - val_loss: 0.4142 - val_accuracy: 0.8745\n",
            "Epoch 10/20\n",
            "151/151 [==============================] - 57s 380ms/step - loss: 0.7130 - accuracy: 0.7549 - val_loss: 0.3801 - val_accuracy: 0.8825\n",
            "Epoch 11/20\n",
            "151/151 [==============================] - 56s 374ms/step - loss: 0.6547 - accuracy: 0.7742 - val_loss: 0.3569 - val_accuracy: 0.8791\n",
            "Epoch 12/20\n",
            "151/151 [==============================] - 56s 373ms/step - loss: 0.5980 - accuracy: 0.7965 - val_loss: 0.3046 - val_accuracy: 0.8978\n",
            "Epoch 13/20\n",
            "151/151 [==============================] - 56s 372ms/step - loss: 0.5577 - accuracy: 0.8093 - val_loss: 0.2593 - val_accuracy: 0.9136\n",
            "Epoch 14/20\n",
            "151/151 [==============================] - 56s 373ms/step - loss: 0.5269 - accuracy: 0.8211 - val_loss: 0.1991 - val_accuracy: 0.9383\n",
            "Epoch 15/20\n",
            "151/151 [==============================] - 56s 374ms/step - loss: 0.4897 - accuracy: 0.8346 - val_loss: 0.2327 - val_accuracy: 0.9238\n",
            "Epoch 16/20\n",
            "151/151 [==============================] - 58s 385ms/step - loss: 0.4648 - accuracy: 0.8415 - val_loss: 0.2347 - val_accuracy: 0.9219\n",
            "Epoch 17/20\n",
            "151/151 [==============================] - 58s 386ms/step - loss: 0.4466 - accuracy: 0.8461 - val_loss: 0.2118 - val_accuracy: 0.9258\n",
            "Epoch 18/20\n",
            "151/151 [==============================] - 58s 384ms/step - loss: 0.4139 - accuracy: 0.8595 - val_loss: 0.2071 - val_accuracy: 0.9327\n",
            "Epoch 19/20\n",
            "151/151 [==============================] - 58s 384ms/step - loss: 0.3910 - accuracy: 0.8652 - val_loss: 0.1533 - val_accuracy: 0.9503\n",
            "Epoch 20/20\n",
            "151/151 [==============================] - 61s 403ms/step - loss: 0.3640 - accuracy: 0.8715 - val_loss: 0.1279 - val_accuracy: 0.9591\n"
          ],
          "name": "stdout"
        }
      ]
    },
    {
      "cell_type": "code",
      "metadata": {
        "colab": {
          "base_uri": "https://localhost:8080/",
          "height": 355
        },
        "id": "erZEIazdXWUQ",
        "outputId": "648b861f-0925-4b87-8578-ce110b5819ad"
      },
      "source": [
        "fig2 , subb2 = plt.subplots(1,2)\n",
        "t_acc = history2.history['accuracy']\n",
        "t_loss = history2.history['loss']\n",
        "fig2.set_size_inches(15,5)\n",
        "\n",
        "subb2[0].set_title('Training Accuracy vs Validation Accuracy')\n",
        "subb2[1].set_title('Training Loss vs Validation Loss')\n",
        "\n",
        "subb2[0].set_ylabel('Accuracy')\n",
        "subb2[1].set_ylabel('Loss')\n",
        "subb2[0].set_xlabel('Epoch')\n",
        "subb2[1].set_xlabel('Epoch')\n",
        "\n",
        "\n",
        "subb2[0].plot(history2.history['accuracy'], color = 'c', label = 'Train Accuracy')\n",
        "subb2[0].plot(history2.history['val_accuracy'], color = 'coral', label = 'Validation Accuracy')\n",
        "\n",
        "subb2[1].plot(history2.history['loss'], color = 'c', label = 'Train Accuracy')\n",
        "subb2[1].plot(history2.history['val_loss'], color = 'coral', label = 'Validation Accuracy')\n",
        "\n",
        "# legend\n",
        "subb2[0].legend(loc='lower right')\n",
        "subb2[1].legend( loc='upper right')\n",
        "\n",
        "plt.show()\n"
      ],
      "execution_count": 171,
      "outputs": [
        {
          "output_type": "display_data",
          "data": {
            "image/png": "[encoded data removed]",
            "text/plain": [
              "<Figure size 1080x360 with 2 Axes>"
            ]
          },
          "metadata": {
            "tags": []
          }
        }
      ]
    },
    {
      "cell_type": "code",
      "metadata": {
        "id": "acc3FpB5YXn8"
      },
      "source": [
        "# convert to 1-26\n",
        "y_pred2 = model2.predict(x_testing)\n",
        "yy2 = []\n",
        "for i in range(len(y_pred2)):\n",
        "  yy2.append(np.argmax(y_pred2[i]))\n"
      ],
      "execution_count": 172,
      "outputs": []
    },
    {
      "cell_type": "code",
      "metadata": {
        "colab": {
          "base_uri": "https://localhost:8080/"
        },
        "id": "2d3GNar3RzfO",
        "outputId": "e2cf4213-117a-489d-d66e-9a79d96b387c"
      },
      "source": [
        "print(\"Accuracy of the model is - \" , model2.evaluate(x_testing,y_test)[1]*100 , \"%\") # 20 epochs"
      ],
      "execution_count": 173,
      "outputs": [
        {
          "output_type": "stream",
          "text": [
            "225/225 [==============================] - 4s 20ms/step - loss: 0.1840 - accuracy: 0.9479\n",
            "Accuracy of the model is -  94.78527903556824 %\n"
          ],
          "name": "stdout"
        }
      ]
    },
    {
      "cell_type": "code",
      "metadata": {
        "id": "tybRXJNOYrtE"
      },
      "source": [
        "from sklearn.metrics import classification_report,confusion_matrix\n",
        "y_true = []\n",
        "for i in range(len(y_test)):\n",
        "  y_true.append(np.argmax(y_test[i]))\n",
        "\n",
        "yy2 = np.array(yy2)\n",
        "y_test = np.array(y_test)\n",
        "# yy2.shape, y_test.shape, len(y_test)\n",
        "\n",
        "cm = confusion_matrix(y_true, yy2 )\n",
        "# cm"
      ],
      "execution_count": 174,
      "outputs": []
    },
    {
      "cell_type": "code",
      "metadata": {
        "colab": {
          "base_uri": "https://localhost:8080/",
          "height": 720
        },
        "id": "uAF7ZH58bFiu",
        "outputId": "65c46d1e-a23b-44f4-b60f-15f0a44817d1"
      },
      "source": [
        "cm = pd.DataFrame(cm , index = [i for i in range(25) if i != 9] , columns = [i for i in range(25) if i != 9])\n",
        "plt.figure(figsize = (12,12))\n",
        "sns.heatmap(cm,cmap= \"crest_r\", linecolor = 'black' , linewidth = 1 , annot = True, fmt='')"
      ],
      "execution_count": 175,
      "outputs": [
        {
          "output_type": "execute_result",
          "data": {
            "text/plain": [
              "<matplotlib.axes._subplots.AxesSubplot at 0x7f29b7d72e48>"
            ]
          },
          "metadata": {
            "tags": []
          },
          "execution_count": 175
        },
        {
          "output_type": "display_data",
          "data": {
            "image/png": "[encoded data removed]",
            "text/plain": [
              "<Figure size 864x864 with 2 Axes>"
            ]
          },
          "metadata": {
            "tags": []
          }
        }
      ]
    },
    {
      "cell_type": "code",
      "metadata": {
        "id": "okw4Rc9zcl1Q"
      },
      "source": [
        ""
      ],
      "execution_count": null,
      "outputs": []
    },
    {
      "cell_type": "markdown",
      "metadata": {
        "id": "73lmMkkA7eRO"
      },
      "source": [
        "TESTING with webcam\n"
      ]
    },
    {
      "cell_type": "code",
      "metadata": {
        "id": "3vgRyL4GYwC-"
      },
      "source": [
        "from IPython.display import display, Javascript\n",
        "from google.colab.output import eval_js\n",
        "from base64 import b64decode\n",
        "\n",
        "def take_photo(filename='photo.jpg', quality=0.8):\n",
        "  js = Javascript('''\n",
        "    async function takePhoto(quality) {\n",
        "      const div = document.createElement('div');\n",
        "      const capture = document.createElement('button');\n",
        "      capture.textContent = 'Capture';\n",
        "      div.appendChild(capture);\n",
        "\n",
        "      const video = document.createElement('video');\n",
        "      video.style.display = 'block';\n",
        "      const stream = await navigator.mediaDevices.getUserMedia({video: true});\n",
        "\n",
        "      document.body.appendChild(div);\n",
        "      div.appendChild(video);\n",
        "      video.srcObject = stream;\n",
        "      await video.play();\n",
        "\n",
        "      // Resize the output to fit the video element.\n",
        "      google.colab.output.setIframeHeight(document.documentElement.scrollHeight, true);\n",
        "\n",
        "      // Wait for Capture to be clicked.\n",
        "      await new Promise((resolve) => capture.onclick = resolve);\n",
        "\n",
        "      const canvas = document.createElement('canvas');\n",
        "      canvas.width = video.videoWidth;\n",
        "      canvas.height = video.videoHeight;\n",
        "      canvas.getContext('2d').drawImage(video, 0, 0);\n",
        "      stream.getVideoTracks()[0].stop();\n",
        "      div.remove();\n",
        "      return canvas.toDataURL('image/jpeg', quality);\n",
        "    }\n",
        "    ''')\n",
        "  display(js)\n",
        "  data = eval_js('takePhoto({})'.format(quality))\n",
        "  binary = b64decode(data.split(',')[1])\n",
        "  with open(filename, 'wb') as f:\n",
        "    f.write(binary)\n",
        "  return filename"
      ],
      "execution_count": 67,
      "outputs": []
    },
    {
      "cell_type": "code",
      "metadata": {
        "colab": {
          "base_uri": "https://localhost:8080/",
          "height": 514
        },
        "id": "wBUf4ssdYwC_",
        "outputId": "b929b8bd-6add-44dc-89a4-5a4a998ef220"
      },
      "source": [
        "from IPython.display import Image\n",
        "try:\n",
        "  filename = take_photo()\n",
        "  print('Saved to {}'.format(filename))\n",
        "  \n",
        "  # Show the image which was just taken.\n",
        "  display(Image(filename))\n",
        "except Exception as err:\n",
        "  # Errors will be thrown if the user does not have a webcam or if they do not\n",
        "  # grant the page permission to access it.\n",
        "  print(str(err))"
      ],
      "execution_count": 144,
      "outputs": [
        {
          "output_type": "display_data",
          "data": {
            "application/javascript": [
              "\n",
              "    async function takePhoto(quality) {\n",
              "      const div = document.createElement('div');\n",
              "      const capture = document.createElement('button');\n",
              "      capture.textContent = 'Capture';\n",
              "      div.appendChild(capture);\n",
              "\n",
              "      const video = document.createElement('video');\n",
              "      video.style.display = 'block';\n",
              "      const stream = await navigator.mediaDevices.getUserMedia({video: true});\n",
              "\n",
              "      document.body.appendChild(div);\n",
              "      div.appendChild(video);\n",
              "      video.srcObject = stream;\n",
              "      await video.play();\n",
              "\n",
              "      // Resize the output to fit the video element.\n",
              "      google.colab.output.setIframeHeight(document.documentElement.scrollHeight, true);\n",
              "\n",
              "      // Wait for Capture to be clicked.\n",
              "      await new Promise((resolve) => capture.onclick = resolve);\n",
              "\n",
              "      const canvas = document.createElement('canvas');\n",
              "      canvas.width = video.videoWidth;\n",
              "      canvas.height = video.videoHeight;\n",
              "      canvas.getContext('2d').drawImage(video, 0, 0);\n",
              "      stream.getVideoTracks()[0].stop();\n",
              "      div.remove();\n",
              "      return canvas.toDataURL('image/jpeg', quality);\n",
              "    }\n",
              "    "
            ],
            "text/plain": [
              "<IPython.core.display.Javascript object>"
            ]
          },
          "metadata": {
            "tags": []
          }
        },
        {
          "output_type": "stream",
          "text": [
            "Saved to photo.jpg\n"
          ],
          "name": "stdout"
        },
        {
          "output_type": "display_data",
          "data": {
            "image/jpeg": "[encoded data removed]",
            "text/plain": [
              "<IPython.core.display.Image object>"
            ]
          },
          "metadata": {
            "tags": []
          }
        }
      ]
    },
    {
      "cell_type": "code",
      "metadata": {
        "id": "HD3M9_YpAWS2",
        "colab": {
          "base_uri": "https://localhost:8080/",
          "height": 306
        },
        "outputId": "31b4840c-b426-4f70-aa34-9174d1ec3391"
      },
      "source": [
        "import cv2\n",
        "ii = cv2.imread('photo.jpg')\n",
        "print(ii.shape)\n",
        "image = cv2.resize(cv2.imread('photo.jpg'), (28,28))\n",
        "plt.imshow(ii)\n",
        "# plt.gray()\n",
        "print(image.shape)\n",
        "plt.show()"
      ],
      "execution_count": 145,
      "outputs": [
        {
          "output_type": "stream",
          "text": [
            "(480, 640, 3)\n",
            "(28, 28, 3)\n"
          ],
          "name": "stdout"
        },
        {
          "output_type": "display_data",
          "data": {
            "image/png": "[encoded data removed]",
            "text/plain": [
              "<Figure size 864x288 with 1 Axes>"
            ]
          },
          "metadata": {
            "tags": []
          }
        }
      ]
    },
    {
      "cell_type": "code",
      "metadata": {
        "id": "0G4xCA5JImmj",
        "colab": {
          "base_uri": "https://localhost:8080/"
        },
        "outputId": "aa85a430-5dd4-40fd-9f93-91c67cba56df"
      },
      "source": [
        "# image = np.array(image, dtype=np.uint8)\n",
        "gray = cv2.cvtColor(image, cv2.COLOR_BGR2GRAY)\n",
        "image = np.array(image.flatten())\n",
        "print(image.shape)"
      ],
      "execution_count": 146,
      "outputs": [
        {
          "output_type": "stream",
          "text": [
            "(2352,)\n"
          ],
          "name": "stdout"
        }
      ]
    },
    {
      "cell_type": "code",
      "metadata": {
        "colab": {
          "base_uri": "https://localhost:8080/"
        },
        "id": "_PRKsSy0wRGz",
        "outputId": "e8607018-b766-4e40-c000-eba5b984dec4"
      },
      "source": [
        "gray.shape"
      ],
      "execution_count": 147,
      "outputs": [
        {
          "output_type": "execute_result",
          "data": {
            "text/plain": [
              "(28, 28)"
            ]
          },
          "metadata": {
            "tags": []
          },
          "execution_count": 147
        }
      ]
    },
    {
      "cell_type": "code",
      "metadata": {
        "colab": {
          "base_uri": "https://localhost:8080/"
        },
        "id": "2ZiV0FMhwRqs",
        "outputId": "36adebbd-3bcb-4ca9-e1a1-3ff9dbf3caa8"
      },
      "source": [
        "# convert 28x28 array into a 1d array of size 784\n",
        "gray = np.array(gray.flatten())\n",
        "print(gray.shape)"
      ],
      "execution_count": 148,
      "outputs": [
        {
          "output_type": "stream",
          "text": [
            "(784,)\n"
          ],
          "name": "stdout"
        }
      ]
    },
    {
      "cell_type": "code",
      "metadata": {
        "colab": {
          "base_uri": "https://localhost:8080/"
        },
        "id": "zx4HShaswhDK",
        "outputId": "28e0947d-df29-4766-8d89-f3241958ff8e"
      },
      "source": [
        "# add bias\n",
        "# grey = gray.reshape(1, 28, 28, 1)\n",
        "grey = gray.reshape(1, 28, 28, 1)\n",
        "grey = grey.astype('float32')\n",
        "\n",
        "# Normalize the data\n",
        "grey = grey / 255\n",
        "grey.shape"
      ],
      "execution_count": 149,
      "outputs": [
        {
          "output_type": "execute_result",
          "data": {
            "text/plain": [
              "(1, 28, 28, 1)"
            ]
          },
          "metadata": {
            "tags": []
          },
          "execution_count": 149
        }
      ]
    },
    {
      "cell_type": "code",
      "metadata": {
        "id": "c-Zj1GsAw7Mc"
      },
      "source": [
        "y_pred1 = model.predict(grey)\n",
        "y_pred2 = model2.predict(grey)"
      ],
      "execution_count": 150,
      "outputs": []
    },
    {
      "cell_type": "code",
      "metadata": {
        "colab": {
          "base_uri": "https://localhost:8080/"
        },
        "id": "9qhvvJnLxMQl",
        "outputId": "15e27027-ed32-410a-867d-ee084a7498d0"
      },
      "source": [
        "num_to_let = {\n",
        "    0:'a',1: 'b', 2: 'c', 3:'d' , 4:'e',5:'f',6:'g',7:'h',8:'i',9:'j',10:'k',11:'l',12:'m',13:'n',14:'o',\n",
        "    15:'p',16:'q',17:'r',18:'s',19:'t',20:'u',21:'v',22:'w',23:'x',24:'y',25:'z'\n",
        "}\n",
        "print(\"model 1 predicted:\" , num_to_let[np.argmax(y_pred1)])\n",
        "print(\"model 2 predicted:\" , num_to_let[np.argmax(y_pred2)])"
      ],
      "execution_count": 151,
      "outputs": [
        {
          "output_type": "stream",
          "text": [
            "model 1 predicted: l\n",
            "model 2 predicted: y\n"
          ],
          "name": "stdout"
        }
      ]
    },
    {
      "cell_type": "code",
      "metadata": {
        "id": "-Fc6T1SQxkXm"
      },
      "source": [
        ""
      ],
      "execution_count": null,
      "outputs": []
    },
    {
      "cell_type": "markdown",
      "metadata": {
        "id": "6I8iRO8ViJOF"
      },
      "source": [
        "Visualizing the Filters"
      ]
    },
    {
      "cell_type": "code",
      "metadata": {
        "colab": {
          "base_uri": "https://localhost:8080/"
        },
        "id": "l_oK5ITaiKkB",
        "outputId": "69b03313-b12f-4d3f-948d-40b1cb025123"
      },
      "source": [
        "model_weights = []\n",
        "\n",
        "for layer in model2.layers:\n",
        "  if 'conv' not in layer.name:\n",
        "    continue\n",
        "\t# get filter weights\n",
        "  filters, biases = layer.get_weights()\n",
        "  model_weights.append(filter)\n",
        " \n",
        "# filters, biases = model2.layers[2].get_weights()\n",
        "# filters\n",
        "len(model_weights)"
      ],
      "execution_count": 218,
      "outputs": [
        {
          "output_type": "execute_result",
          "data": {
            "text/plain": [
              "3"
            ]
          },
          "metadata": {
            "tags": []
          },
          "execution_count": 218
        }
      ]
    },
    {
      "cell_type": "code",
      "metadata": {
        "id": "Adfa9iU3vyaq"
      },
      "source": [
        "# normalize filter values to 0-1 so we can visualize them\n",
        "f_min = filters.min()\n",
        "f_max = filters.max()\n",
        "filters = (filters - f_min) / (f_max - f_min)"
      ],
      "execution_count": 219,
      "outputs": []
    },
    {
      "cell_type": "code",
      "metadata": {
        "colab": {
          "base_uri": "https://localhost:8080/",
          "height": 228
        },
        "id": "ZiMkdT7GwYgl",
        "outputId": "3b81e322-4fc5-42bf-da04-61f09d66a71a"
      },
      "source": [
        "n_filters, ix = 1, 1\n",
        "f = filters[:, :, :, 1]\n",
        "for j in range(3):\n",
        "  ax = plt.subplot(n_filters, 3, ix)\n",
        "  ax.set_xticks([])\n",
        "  ax.set_yticks([])\n",
        "  plt.imshow(f[:, :, j], cmap='gray')\n",
        "  ix += 1\n",
        "plt.show()"
      ],
      "execution_count": 220,
      "outputs": [
        {
          "output_type": "display_data",
          "data": {
            "image/png": "[encoded data removed]",
            "text/plain": [
              "<Figure size 864x288 with 3 Axes>"
            ]
          },
          "metadata": {
            "tags": []
          }
        }
      ]
    },
    {
      "cell_type": "code",
      "metadata": {
        "id": "Ks3G8lQ4w2PZ"
      },
      "source": [
        "# model11 = model2(inputs=model2.inputs, outputs=model2.layers[1].output)"
      ],
      "execution_count": 188,
      "outputs": []
    },
    {
      "cell_type": "code",
      "metadata": {
        "id": "Ih7pc5uzxeSU"
      },
      "source": [
        "# from torchvision import models, transforms\n",
        "# transform = transforms.Compose([\n",
        "#     transforms.ToPILImage(),\n",
        "#     transforms.Resize((512, 512)),\n",
        "#     transforms.ToTensor(),\n",
        "# ])\n",
        "\n",
        "\n",
        "# image = np.array(image)\n",
        "# # apply the transforms\n",
        "# image = transform(image)\n",
        "# print(image.size())\n",
        "# # unsqueeze to add a batch dimension\n",
        "# image = image.unsqueeze(0)\n",
        "# print(image.size())"
      ],
      "execution_count": 230,
      "outputs": []
    },
    {
      "cell_type": "code",
      "metadata": {
        "id": "8lR7JxOPyIUY"
      },
      "source": [
        ""
      ],
      "execution_count": null,
      "outputs": []
    }
  ]
}